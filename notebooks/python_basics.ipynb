{
 "cells": [
  {
   "cell_type": "markdown",
   "metadata": {},
   "source": [
    "# Introduction\n",
    "\n",
    "This is a tutorial on Python, which is a part of the tutorial on data analysis.\n",
    "\n",
    "I wrote this tutorial because a friend of mine would like to use Python for her study in the program \"Master in Econometrics\" at Erasmus University Rotterdam. Some quantitative courses requires certain amount of programming work. She would like to choose a programming language as her main tool for the assignments. Among several statistical softwares/languages, I particularly recommend them Python.\n",
    "\n",
    "Python is a good language to me in terms of scientific calculation and statistical analysis because it is simple but powerful. It is a general programming language, which means that you can use it for daily work besides your study. There is a lot of highly-optimized packages for statistics and data science, which means that you could easily find a proper one for your assignments. The syntax of Python is concise and the language is dynamic, which means you could run it line by line and do not need to declare the type of the variables.\n",
    "\n",
    "Finally, Python \"learns\" a lot from other softwares/languages. The matrix expressions and scientific calculations (numpy and scipy) are learned from Matlab. The data storage and processing (pandas) are learned from R. That means that you can easily understand the logic of and switch to other statistical softwares/programs when you are familiar with Python.\n",
    "\n",
    "When you are learning this new language, I highly suggest that you \"learn by coding\". Do not just read, but type your codes and run them. Only by doing so you understand how to program in Python by heart.\n",
    "\n",
    "I will write and improve this tutorial every day, but not too much each time. A basic assumption is that you have already certain level of knowledge| in quantitative methods and programming. This is, above all, not a programming tutorial but a tutorial on data analysis. I will keep the \"basic things in computer science\" in short and go quickly to the core issues that will be frequently used by a quantitative and econometrics guy.\n",
    "\n",
    "Good luck with your study and hope that you enjoy this fantastic language!"
   ]
  },
  {
   "cell_type": "markdown",
   "metadata": {},
   "source": [
    "# Installation"
   ]
  },
  {
   "cell_type": "markdown",
   "metadata": {},
   "source": [
    "You can install Python with necessary packages from Anaconda \"https://www.anaconda.com/download/#macos\".\n",
    "\n",
    "I recommend that you install the latest Python 3.\n",
    "\n",
    "After installation. You can open the \"cmd\"0 in Windows or \"terminal\" in MacOS, and type:\n",
    "\n",
    "```\n",
    "jupyter notebook\n",
    "```\n",
    "Then you can use Python in an interactive way by creating a new Python notebook."
   ]
  },
  {
   "cell_type": "markdown",
   "metadata": {},
   "source": [
    "# HelloWorld!"
   ]
  },
  {
   "cell_type": "markdown",
   "metadata": {},
   "source": [
    "Now click a block in the notebook. You can type your first Python program and press \"Shift + Enter\" to execute it. Then you will see the magic as follows:"
   ]
  },
  {
   "cell_type": "code",
   "execution_count": 1,
   "metadata": {
    "collapsed": false
   },
   "outputs": [
    {
     "name": "stdout",
     "output_type": "stream",
     "text": [
      "HelloWorld!\n"
     ]
    }
   ],
   "source": [
    "print(\"HelloWorld!\")"
   ]
  },
  {
   "cell_type": "markdown",
   "metadata": {},
   "source": [
    "Here, the line print(\"HelloWorld!\") tells Python to display \"HelloWorld!\" on the screen. Note that print() is a function that you let Python to print the thing in the parenthesis on the screen."
   ]
  },
  {
   "cell_type": "markdown",
   "metadata": {},
   "source": [
    "# Assign values"
   ]
  },
  {
   "cell_type": "markdown",
   "metadata": {},
   "source": [
    "Values and words are stored in Python with a unique name. When you are doing assignment, you tell Python the name of a certain value. Next time you refer to this name, Python will know that you will use the specific value.\n",
    "\n",
    "Assignment is done by \"=\" sign. Not that it is not a judgment whether values are equal. Instead, it means that we assign a value from the right-handed side to a variable name on the left-handed side."
   ]
  },
  {
   "cell_type": "code",
   "execution_count": 2,
   "metadata": {
    "collapsed": true
   },
   "outputs": [],
   "source": [
    "a = 1\n",
    "name = \"Yuhao\""
   ]
  },
  {
   "cell_type": "markdown",
   "metadata": {},
   "source": [
    "Above is an example of assignment. The first line assign an integer 1 to the variable with the name \"a\". The second line assign a word \"Yuhao\" to the variable with the name \"name\".\n",
    "\n",
    "It is always recommended that you use nice names for your variables. \"gender\" is much better than \"sdf1324dsf1\" when you want to use it to stand for the gender type.\n",
    "\n",
    "After successful assignment. You can print the value by calling the variable:"
   ]
  },
  {
   "cell_type": "code",
   "execution_count": 3,
   "metadata": {
    "collapsed": false
   },
   "outputs": [
    {
     "name": "stdout",
     "output_type": "stream",
     "text": [
      "1\n"
     ]
    }
   ],
   "source": [
    "print(a)"
   ]
  },
  {
   "cell_type": "markdown",
   "metadata": {},
   "source": [
    "Python will check the value of the variable \"a\" and print it on the screen."
   ]
  },
  {
   "cell_type": "markdown",
   "metadata": {},
   "source": [
    "# Change value of a variable"
   ]
  },
  {
   "cell_type": "markdown",
   "metadata": {},
   "source": [
    "After assignment, you can always change the value of the variable.\n",
    "\n",
    "Python is a dynamic language. It means that you can change the value to other types. For example:"
   ]
  },
  {
   "cell_type": "code",
   "execution_count": 4,
   "metadata": {
    "collapsed": false
   },
   "outputs": [
    {
     "name": "stdout",
     "output_type": "stream",
     "text": [
      "<class 'int'>\n",
      "<class 'str'>\n",
      "<class 'list'>\n"
     ]
    }
   ],
   "source": [
    "b = 1\n",
    "print(type(b))\n",
    "b = \"people\"\n",
    "print(type(b))\n",
    "b = [1, 2, 3]\n",
    "print(type(b))"
   ]
  },
  {
   "cell_type": "markdown",
   "metadata": {},
   "source": [
    "Although the variable \"b\" is firstly used as an number. You can easily assign an text or list to the variable. The type of this variable changes accordingly. This feature is only permitted in languages like Python but will definitely not allowed in static languages like C."
   ]
  },
  {
   "cell_type": "markdown",
   "metadata": {
    "collapsed": true
   },
   "source": [
    "# Basic calculations"
   ]
  },
  {
   "cell_type": "markdown",
   "metadata": {},
   "source": [
    "Calculations are done in Python simply like basic algebra. For example:"
   ]
  },
  {
   "cell_type": "code",
   "execution_count": 5,
   "metadata": {
    "collapsed": false
   },
   "outputs": [
    {
     "name": "stdout",
     "output_type": "stream",
     "text": [
      "8\n",
      "2\n",
      "8\n",
      "0.6\n",
      "243\n"
     ]
    }
   ],
   "source": [
    "a = 3\n",
    "b = 5\n",
    "print(a + b)\n",
    "print(a - 1)\n",
    "print(2 * 4)\n",
    "print(a / b)\n",
    "print(a ** b)"
   ]
  },
  {
   "cell_type": "markdown",
   "metadata": {},
   "source": [
    "The signs \"+\", \"-\", \"*\", \"/\", \"**\" stands for \"add\", \"minus\", \"times\", \"divide\", and \"power\", respectively.\n",
    "\n",
    "You can also use parentheses to make certain calculations prior to others. Parentheses can be used in parentheses. But do never use bracket and braces! They have other roles to play in Python. For example:"
   ]
  },
  {
   "cell_type": "code",
   "execution_count": 6,
   "metadata": {
    "collapsed": false
   },
   "outputs": [
    {
     "name": "stdout",
     "output_type": "stream",
     "text": [
      "12.849764674622323\n"
     ]
    }
   ],
   "source": [
    "value = ((2 + 3) * (12 - 0.4) ** (3 / 5)) / (1 + (1 / 3) ** (1 / 3))\n",
    "print(value)"
   ]
  }
 ],
 "metadata": {
  "anaconda-cloud": {},
  "kernelspec": {
   "display_name": "Python [default]",
   "language": "python",
   "name": "python3"
  },
  "language_info": {
   "codemirror_mode": {
    "name": "ipython",
    "version": 3
   },
   "file_extension": ".py",
   "mimetype": "text/x-python",
   "name": "python",
   "nbconvert_exporter": "python",
   "pygments_lexer": "ipython3",
   "version": "3.5.2"
  }
 },
 "nbformat": 4,
 "nbformat_minor": 1
}
